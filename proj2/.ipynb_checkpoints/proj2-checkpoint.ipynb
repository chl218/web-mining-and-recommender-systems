{
 "cells": [
  {
   "cell_type": "code",
   "execution_count": 127,
   "metadata": {
    "collapsed": true
   },
   "outputs": [],
   "source": [
    "import numpy as np\n",
    "from urllib.request import urlopen\n",
    "import scipy.optimize\n",
    "import random\n",
    "from math import exp\n",
    "from math import log"
   ]
  },
  {
   "cell_type": "code",
   "execution_count": 22,
   "metadata": {},
   "outputs": [
    {
     "name": "stdout",
     "output_type": "stream",
     "text": [
      "Reading data...\n",
      "done\n"
     ]
    }
   ],
   "source": [
    "def parseData(fname):\n",
    "  for l in urlopen(fname):\n",
    "    yield eval(l)\n",
    "\n",
    "print(\"Reading data...\")\n",
    "data = list(parseData(\"http://jmcauley.ucsd.edu/cse190/data/beer/beer_50000.json\"))\n",
    "print(\"done\")\n",
    "\n",
    "def feature(datum):\n",
    "  feat = [1, datum['review/taste'], datum['review/appearance'], datum['review/aroma'], datum['review/palate'], datum['review/overall']]\n",
    "  return feat\n",
    "\n",
    "X = [feature(d) for d in data]\n",
    "y = [d['beer/ABV'] >= 6.5 for d in data]\n",
    "\n",
    "def inner(x,y):\n",
    "  return sum([x[i]*y[i] for i in range(len(x))])\n",
    "\n",
    "def sigmoid(x):\n",
    "  return 1.0 / (1 + exp(-x))"
   ]
  },
  {
   "cell_type": "code",
   "execution_count": 28,
   "metadata": {
    "collapsed": true
   },
   "outputs": [],
   "source": [
    "##################################################\n",
    "# Logistic regression by gradient ascent         #\n",
    "##################################################\n",
    "\n",
    "# NEGATIVE Log-likelihood\n",
    "def f(theta, X, y, lam):\n",
    "  loglikelihood = 0\n",
    "  for i in range(len(X)):\n",
    "    logit = inner(X[i], theta)\n",
    "    loglikelihood -= log(1 + exp(-logit))\n",
    "    if not y[i]:\n",
    "      loglikelihood -= (1.05*logit)\n",
    "  for k in range(len(theta)):\n",
    "    loglikelihood -= lam * theta[k]*theta[k]\n",
    "  # for debugging\n",
    "  # print(\"ll =\" + str(loglikelihood))\n",
    "  return -loglikelihood\n",
    "\n",
    "# NEGATIVE Derivative of log-likelihood\n",
    "def fprime(theta, X, y, lam):\n",
    "  dl = [0]*len(theta)\n",
    "  for i in range(len(X)):\n",
    "    logit = inner(X[i], theta)\n",
    "    for k in range(len(theta)):\n",
    "      dl[k] += X[i][k] * (1 - sigmoid(logit))\n",
    "      if not y[i]:\n",
    "        dl[k] -= X[i][k]\n",
    "  for k in range(len(theta)):\n",
    "    dl[k] -= lam*2*theta[k]\n",
    "  return np.array([-x for x in dl])\n"
   ]
  },
  {
   "cell_type": "code",
   "execution_count": 24,
   "metadata": {
    "collapsed": true
   },
   "outputs": [],
   "source": [
    "X_train = X\n",
    "y_train = y"
   ]
  },
  {
   "cell_type": "code",
   "execution_count": 25,
   "metadata": {},
   "outputs": [
    {
     "name": "stdout",
     "output_type": "stream",
     "text": [
      "X shuffled:  (50000, 6)\n",
      "y shuffled:  (50000,)\n",
      "x train:  (16667, 6) x validate:  (16666, 6) x test:  (16665, 6)\n",
      "y train:  (16667,) y validate:  (16666,) y test:  (16665,)\n"
     ]
    }
   ],
   "source": [
    "\n",
    "# split into 1/3 train, 1/3 validation, 1/3 test\n",
    "\n",
    "Z = list(zip(X, y))\n",
    "\n",
    "random.shuffle(Z)\n",
    "\n",
    "x_shuffled, y_shuffled = zip(*Z)\n",
    "\n",
    "print(\"X shuffled: \", np.shape(x_shuffled))\n",
    "print(\"y shuffled: \", np.shape(y_shuffled))\n",
    "\n",
    "samples = len(x_shuffled)\n",
    "\n",
    "X_train = x_shuffled[0:round(samples/3)];\n",
    "y_train = y_shuffled[0:round(samples/3)];\n",
    "\n",
    "X_validation = x_shuffled[round(samples/3) + 1: 2 * round(samples/3)]\n",
    "y_validation = y_shuffled[round(samples/3) + 1: 2 * round(samples/3)]\n",
    "\n",
    "X_test = x_shuffled[2 * round(samples/3) + 1:samples]\n",
    "y_test = y_shuffled[2 * round(samples/3) + 1:samples]\n",
    "\n",
    "print(\"x train: \", np.shape(X_train), \"x validate: \", np.shape(X_validation), \"x test: \", np.shape(X_test))\n",
    "print(\"y train: \", np.shape(y_train), \"y validate: \", np.shape(y_validation), \"y test: \", np.shape(y_test))\n",
    "\n"
   ]
  },
  {
   "cell_type": "code",
   "execution_count": 26,
   "metadata": {
    "collapsed": true
   },
   "outputs": [],
   "source": [
    "##################################################\n",
    "# Train                                          #\n",
    "##################################################\n",
    "\n",
    "def train(lam):\n",
    "  theta,_,_ = scipy.optimize.fmin_l_bfgs_b(f, [0]*len(X[0]), fprime, pgtol = 10, args = (X_train, y_train, lam))\n",
    "  return theta\n"
   ]
  },
  {
   "cell_type": "code",
   "execution_count": 27,
   "metadata": {
    "collapsed": true
   },
   "outputs": [],
   "source": [
    "##################################################\n",
    "# Predict                                        #\n",
    "##################################################\n",
    "\n",
    "def performance(theta, X, y):\n",
    "  scores = [inner(theta,x) for x in X]\n",
    "  predictions = [s > 0 for s in scores]\n",
    "    \n",
    "  positives = sum(predictions)\n",
    "  negatives = len(predictions) - sum(predictions)\n",
    "    \n",
    "  correct = [(a==b) for (a,b) in zip(predictions, y)]\n",
    "    \n",
    "  truePositives = sum(correct)\n",
    "  trueNegatives = len(correct) - sum(correct)\n",
    "\n",
    "  falsePositives = sum([(a==1 and b==0) for (a,b) in zip(predictions,y)])\n",
    "  falseNegatives = sum([(a==0 and b==1) for (a,b) in zip(predictions,y)])\n",
    " \n",
    "  acc = sum(correct) * 1.0 / len(correct)\n",
    "  return acc, positives, negatives, truePositives, trueNegatives, falsePositives, falseNegatives\n"
   ]
  },
  {
   "cell_type": "code",
   "execution_count": 29,
   "metadata": {},
   "outputs": [],
   "source": [
    "##################################################\n",
    "# Validation pipeline                            #\n",
    "##################################################\n",
    "lam = 1.0\n",
    "theta = train(lam)"
   ]
  },
  {
   "cell_type": "code",
   "execution_count": 30,
   "metadata": {},
   "outputs": [
    {
     "name": "stdout",
     "output_type": "stream",
     "text": [
      "==================================================\n",
      "Training Set \n",
      "\n",
      "Positives:  13670\n",
      "Negatives:  2997 \n",
      "\n",
      "True Positives:  11200\n",
      "True Positives:  5467 \n",
      "\n",
      "False Positives:  4369\n",
      "False Negatives:  1098 \n",
      "\n",
      "lambda = 1.0:\taccuracy=0.6719865602687947 \n",
      "\n",
      "==================================================\n",
      "Validation Set \n",
      "\n",
      "Positives:  13639\n",
      "Negatives:  3027 \n",
      "\n",
      "True Positives:  11379\n",
      "True Positives:  5287 \n",
      "\n",
      "False Positives:  4302\n",
      "False Negatives:  985 \n",
      "\n",
      "lambda = 1.0:\taccuracy=0.6827673106924277 \n",
      "\n",
      "==================================================\n",
      "Testing Set \n",
      "\n",
      "Positives:  13669\n",
      "Negatives:  2996 \n",
      "\n",
      "True Positives:  11377\n",
      "True Positives:  5288 \n",
      "\n",
      "False Positives:  4255\n",
      "False Negatives:  1033 \n",
      "\n",
      "lambda = 1.0:\taccuracy=0.6826882688268827 \n",
      "\n"
     ]
    }
   ],
   "source": [
    "labels  = [\"Training Set\", \"Validation Set\", \"Testing Set\"]\n",
    "corpusX = [X_train, X_validation, X_test]\n",
    "corpusY = [y_train, y_validation, y_test]\n",
    "\n",
    "for (label, x, y) in zip(labels, corpusX, corpusY):\n",
    "    print(\"==================================================\")\n",
    "    print(label, \"\\n\")\n",
    "    acc, positives, negatives, truePositives, trueNegatives, falsePositives, falseNegatives = performance(theta, x, y)\n",
    "    \n",
    "    print(\"Positives: \", positives)\n",
    "    print(\"Negatives: \", negatives, \"\\n\")\n",
    "\n",
    "    print(\"True Positives: \", truePositives)\n",
    "    print(\"True Positives: \", trueNegatives, \"\\n\")\n",
    "    \n",
    "    print(\"False Positives: \", falsePositives)\n",
    "    print(\"False Negatives: \", falseNegatives, \"\\n\")\n",
    "    \n",
    "    print(\"lambda = \" + str(lam) + \":\\taccuracy=\" + str(acc), \"\\n\")\n"
   ]
  },
  {
   "cell_type": "code",
   "execution_count": 31,
   "metadata": {},
   "outputs": [
    {
     "name": "stdout",
     "output_type": "stream",
     "text": [
      "==================================================\n",
      "Training Set \n",
      "\n",
      "Positives:  13670\n",
      "Negatives:  2997 \n",
      "\n",
      "True Positives:  11200\n",
      "True Positives:  5467 \n",
      "\n",
      "False Positives:  4369\n",
      "False Negatives:  1098 \n",
      "\n",
      "lambda = 1.0:\taccuracy=0.6719865602687947 \n",
      "\n",
      "==================================================\n",
      "Validation Set \n",
      "\n",
      "Positives:  13639\n",
      "Negatives:  3027 \n",
      "\n",
      "True Positives:  11379\n",
      "True Positives:  5287 \n",
      "\n",
      "False Positives:  4302\n",
      "False Negatives:  985 \n",
      "\n",
      "lambda = 1.0:\taccuracy=0.6827673106924277 \n",
      "\n",
      "==================================================\n",
      "Testing Set \n",
      "\n",
      "Positives:  13669\n",
      "Negatives:  2996 \n",
      "\n",
      "True Positives:  11377\n",
      "True Positives:  5288 \n",
      "\n",
      "False Positives:  4255\n",
      "False Negatives:  1033 \n",
      "\n",
      "lambda = 1.0:\taccuracy=0.6826882688268827 \n",
      "\n"
     ]
    }
   ],
   "source": [
    "\n",
    "for (label, x, y) in zip(labels, corpusX, corpusY):\n",
    "    print(\"==================================================\")\n",
    "    print(label, \"\\n\")\n",
    "    acc, positives, negatives, truePositives, trueNegatives, falsePositives, falseNegatives = performance(theta, x, y)\n",
    "    \n",
    "    print(\"Positives: \", positives)\n",
    "    print(\"Negatives: \", negatives, \"\\n\")\n",
    "\n",
    "    print(\"True Positives: \", truePositives)\n",
    "    print(\"True Positives: \", trueNegatives, \"\\n\")\n",
    "    \n",
    "    print(\"False Positives: \", falsePositives)\n",
    "    print(\"False Negatives: \", falseNegatives, \"\\n\")\n",
    "    \n",
    "    print(\"lambda = \" + str(lam) + \":\\taccuracy=\" + str(acc), \"\\n\")\n"
   ]
  },
  {
   "cell_type": "code",
   "execution_count": 32,
   "metadata": {
    "collapsed": true
   },
   "outputs": [],
   "source": [
    "lambdas = [0, 0.01, 0.1, 1, 100]\n",
    "labels  = [\"Training Set\", \"Validation Set\", \"Testing Set\"]\n",
    "corpusX = [X_train, X_validation, X_test]\n",
    "corpusY = [y_train, y_validation, y_test]\n",
    "\n",
    "acc = []\n",
    "positives = []\n",
    "negatives = []\n",
    "truePositives = []\n",
    "trueNegatives = []\n",
    "falsePositives = []\n",
    "falseNegatives = []\n",
    "\n",
    "for lam in lambdas:\n",
    "    theta = train(lam)\n",
    "    for (x, y) in zip(corpusX, corpusY):\n",
    "        _acc, _positives, _negatives, _truePositives, _trueNegatives, _falsePositives, _falseNegatives \\\n",
    "            = performance(theta, x, y)\n",
    "            \n",
    "        acc.append(_acc)\n",
    "        positives.append(_positives)\n",
    "        negatives.append(_negatives)\n",
    "        truePositives.append(_truePositives)\n",
    "        trueNegatives.append(_trueNegatives)\n",
    "        falsePositives.append(_falsePositives)\n",
    "        falseNegatives.append(_falseNegatives)"
   ]
  },
  {
   "cell_type": "code",
   "execution_count": 118,
   "metadata": {},
   "outputs": [
    {
     "name": "stdout",
     "output_type": "stream",
     "text": [
      "Lambdas:         0.000 0.000 0.000 0.010 0.010 0.010 0.100 0.100 0.100 1.000 1.000 1.000 100.000 100.000 100.000 \n",
      "Accuracy:        0.671 0.683 0.682 0.671 0.683 0.682 0.671 0.683 0.682 0.672 0.683 0.683 0.663 0.667 0.674 \n",
      "\n",
      "Positives:       13632 13617 13640 13632 13617 13640 13635 13617 13642 13670 13639 13669 14904 14852 14892 \n",
      "Negatives:        3035  3049  3025  3035  3049  3025  3032  3049  3023  2997  3027  2996  1763  1814  1773 \n",
      "\n",
      "True Positives:  11190 11383 11372 11190 11383 11372 11191 11383 11370 11200 11379 11377 11048 11110 11226 \n",
      "True Negatives:   5477  5283  5293  5477  5283  5293  5476  5283  5295  5467  5287  5288  5619  5556  5439 \n",
      "\n",
      "False Positives:  4355  4289  4243  4355  4289  4243  4356  4289  4245  4369  4302  4255  5062  5043  4942 \n",
      "False Negatives:  1122   994  1050  1122   994  1050  1120   994  1050  1098   985  1033   557   513   497 "
     ]
    }
   ],
   "source": [
    "print(\"Lambdas:         \", end='') \n",
    "[print(\"%.3f \" % val, end='') for val in np.repeat(lambdas,3)]\n",
    "print(\"\\nAccuracy:        \", end='') \n",
    "[print(\"%.3f \" % val, end='') for val in acc]\n",
    "\n",
    "print(\"\\n\\nPositives:       \", end='') \n",
    "[print(\"%5d \" % val, end='') for val in positives]\n",
    "print(\"\\nNegatives:       \", end='') \n",
    "[print(\"%5d \" % val, end='') for val in negatives]\n",
    "\n",
    "print(\"\\n\\nTrue Positives:  \", end='') \n",
    "[print(\"%5d \" % val, end='') for val in truePositives]\n",
    "print(\"\\nTrue Negatives:  \", end='') \n",
    "[print(\"%5d \" % val, end='') for val in trueNegatives]\n",
    "\n",
    "print(\"\\n\\nFalse Positives: \", end='') \n",
    "[print(\"%5d \" % val, end='') for val in falsePositives]\n",
    "print(\"\\nFalse Negatives: \", end='') \n",
    "[print(\"%5d \" % val, end='') for val in falseNegatives];"
   ]
  },
  {
   "cell_type": "code",
   "execution_count": null,
   "metadata": {
    "collapsed": true
   },
   "outputs": [],
   "source": []
  },
  {
   "cell_type": "code",
   "execution_count": 285,
   "metadata": {
    "collapsed": true
   },
   "outputs": [],
   "source": [
    "### Network visualization ###\n",
    "import networkx as nx\n",
    "import matplotlib.pyplot as plt"
   ]
  },
  {
   "cell_type": "code",
   "execution_count": 286,
   "metadata": {},
   "outputs": [],
   "source": [
    "edges = set()\n",
    "nodes = set()\n",
    "for edge in urlopen(\"http://jmcauley.ucsd.edu/cse255/data/facebook/egonet.txt\"):\n",
    "  x,y = edge.split()\n",
    "  x,y = int(x),int(y)\n",
    "  edges.add((x,y))\n",
    "  edges.add((y,x))\n",
    "  nodes.add(x)\n",
    "  nodes.add(y)"
   ]
  },
  {
   "cell_type": "code",
   "execution_count": 287,
   "metadata": {},
   "outputs": [
    {
     "data": {
      "image/png": "[encoded data removed]",
      "text/plain": [
       "<Figure size 432x288 with 1 Axes>"
      ]
     },
     "metadata": {},
     "output_type": "display_data"
    }
   ],
   "source": [
    "G = nx.Graph()\n",
    "for e in edges:\n",
    "  G.add_edge(e[0],e[1])\n",
    "nx.draw(G)\n",
    "plt.show()\n",
    "plt.clf()"
   ]
  },
  {
   "cell_type": "code",
   "execution_count": 288,
   "metadata": {},
   "outputs": [
    {
     "name": "stdout",
     "output_type": "stream",
     "text": [
      "Number of Connected Components:  3\n",
      "Largest Connected Component: 40\n"
     ]
    }
   ],
   "source": [
    "print(\"Number of Connected Components: \", nx.number_connected_components(G))\n",
    "print(\"Largest Connected Component:\", max([len(x) for x in nx.connected_components(G)]))"
   ]
  },
  {
   "cell_type": "code",
   "execution_count": 385,
   "metadata": {},
   "outputs": [
    {
     "name": "stdout",
     "output_type": "stream",
     "text": [
      "Low IDs:   [697, 703, 708, 713, 719, 729, 745, 747, 753, 769, 772, 774, 798, 800, 803, 804, 805, 810, 811, 819]\n",
      "High IDs:  [823, 825, 828, 830, 840, 856, 861, 863, 864, 869, 876, 878, 880, 882, 884, 886, 888, 889, 890, 893]\n",
      "Normalized Cut Cost:  0.4224058769513316\n"
     ]
    }
   ],
   "source": [
    "largest_cc = sorted(max(nx.connected_components(G), key=len))\n",
    "\n",
    "half = round(len(largest_cc)/2)\n",
    "\n",
    "split_lo = largest_cc[:half]\n",
    "split_hi = largest_cc[half:]\n",
    "\n",
    "print(\"Low IDs:  \", split_lo)\n",
    "print(\"High IDs: \", split_hi)\n",
    "print(\"Normalized Cut Cost: \", (1/2)*nx.normalized_cut_size(G, split_lo, split_hi))"
   ]
  },
  {
   "cell_type": "code",
   "execution_count": 371,
   "metadata": {},
   "outputs": [
    {
     "name": "stdout",
     "output_type": "stream",
     "text": [
      "697  703  708  713  719  729  745  747  753  769  772  774  798  800  803  804  805  810  811  819  "
     ]
    }
   ],
   "source": [
    "for val in split_lo:\n",
    "    print(val, ' ', end='')"
   ]
  },
  {
   "cell_type": "code",
   "execution_count": 386,
   "metadata": {},
   "outputs": [
    {
     "name": "stdout",
     "output_type": "stream",
     "text": [
      "\n",
      "Number of Iterations:  3\n",
      "New Low IDs:   [697, 703, 708, 713, 719, 745, 747, 753, 769, 772, 774, 798, 800, 803, 805, 810, 811, 819, 823, 828, 830, 840, 856, 869, 880, 890]\n",
      "New High IDs:  [729, 804, 825, 861, 863, 864, 876, 878, 882, 884, 886, 888, 889, 893]\n",
      "Normalized Cut Cost:  0.09817045961624274\n"
     ]
    }
   ],
   "source": [
    "prevCost = 0;\n",
    "currCost = (1/2)*nx.normalized_cut_size(G, split_lo, split_hi)\n",
    "\n",
    "iter = 0\n",
    "while prevCost != currCost:\n",
    "    iter += 1\n",
    "    \n",
    "    prevCost = currCost\n",
    "    \n",
    "    lo = [i for i in split_lo] # deep copy\n",
    "    hi = [i for i in split_hi] # deep copy\n",
    "    \n",
    "    for val in split_lo:          \n",
    "        lo.remove(val)\n",
    "        hi.append(val)\n",
    "\n",
    "        newCost = (1/2)*nx.normalized_cut_size(G, lo, hi)\n",
    "            \n",
    "        if(newCost > currCost):\n",
    "            lo.append(val)\n",
    "            hi.remove(val)\n",
    "        else:\n",
    "            currCost = newCost \n",
    "\n",
    "    for val in split_hi:\n",
    "        lo.append(val)\n",
    "        hi.remove(val)\n",
    "        newCost = (1/2)*nx.normalized_cut_size(G, lo, hi)\n",
    "            \n",
    "        if(newCost > currCost):\n",
    "            lo.remove(val)\n",
    "            hi.append(val)\n",
    "        else:\n",
    "            currCost = newCost\n",
    "           \n",
    "    split_lo = [i for i in lo]\n",
    "    split_hi = [i for i in hi]\n",
    "    \n",
    "print(\"\\nNumber of Iterations: \", iter)\n",
    "print(\"New Low IDs:  \", sorted(split_lo))\n",
    "print(\"New High IDs: \", sorted(split_hi))\n",
    "print(\"Normalized Cut Cost: \", (1/2)*nx.normalized_cut_size(G, split_lo, split_hi))"
   ]
  },
  {
   "cell_type": "code",
   "execution_count": null,
   "metadata": {
    "collapsed": true
   },
   "outputs": [],
   "source": []
  },
  {
   "cell_type": "code",
   "execution_count": null,
   "metadata": {
    "collapsed": true
   },
   "outputs": [],
   "source": []
  }
 ],
 "metadata": {
  "kernelspec": {
   "display_name": "Python 3",
   "language": "python",
   "name": "python3"
  },
  "language_info": {
   "codemirror_mode": {
    "name": "ipython",
    "version": 3
   },
   "file_extension": ".py",
   "mimetype": "text/x-python",
   "name": "python",
   "nbconvert_exporter": "python",
   "pygments_lexer": "ipython3",
   "version": "3.6.3"
  }
 },
 "nbformat": 4,
 "nbformat_minor": 2
}
